{
 "cells": [
  {
   "cell_type": "markdown",
   "id": "1472379268d74325",
   "metadata": {},
   "source": [
    "#### Import necessary libraries"
   ]
  },
  {
   "cell_type": "code",
   "id": "e4ddcd9ea66b8124",
   "metadata": {
    "ExecuteTime": {
     "end_time": "2025-05-12T13:35:28.146556Z",
     "start_time": "2025-05-12T13:35:28.143961Z"
    }
   },
   "source": [
    "import chess\n",
    "import chess.svg\n",
    "import subprocess\n",
    "from pathlib import Path\n",
    "import ipywidgets as widgets\n",
    "from IPython.display import display, clear_output, SVG\n",
    "import random\n",
    "import matplotlib.pyplot as plt\n",
    "import time\n",
    "import numpy as np\n",
    "import GPUtil\n",
    "import psutil\n",
    "import torch\n",
    "import chess.engine"
   ],
   "outputs": [],
   "execution_count": 29
  },
  {
   "metadata": {},
   "cell_type": "markdown",
   "source": "## LC0",
   "id": "1e65b92ad1da3a46"
  },
  {
   "cell_type": "markdown",
   "id": "1c5dbcc9da50dbc5",
   "metadata": {},
   "source": [
    "### Initialization of Chess Board and Widgets"
   ]
  },
  {
   "cell_type": "code",
   "id": "d513b4959a3912e7",
   "metadata": {
    "ExecuteTime": {
     "end_time": "2025-05-12T13:35:28.164902Z",
     "start_time": "2025-05-12T13:35:28.161215Z"
    }
   },
   "source": [
    "board = chess.Board()\n",
    "board_output = widgets.Output()\n",
    "info_output = widgets.Output()"
   ],
   "outputs": [],
   "execution_count": 30
  },
  {
   "cell_type": "markdown",
   "id": "3b15412c9ea78113",
   "metadata": {},
   "source": [
    "#### Display the last move made"
   ]
  },
  {
   "cell_type": "code",
   "id": "c180fba958374b00",
   "metadata": {
    "ExecuteTime": {
     "end_time": "2025-05-12T13:35:28.184202Z",
     "start_time": "2025-05-12T13:35:28.180719Z"
    }
   },
   "source": [
    "opponent_move_display = widgets.Text(\n",
    "    description='Last Move:',\n",
    "    disabled=True,\n",
    "    layout=widgets.Layout(width='300px')\n",
    ")"
   ],
   "outputs": [],
   "execution_count": 31
  },
  {
   "cell_type": "markdown",
   "id": "183256c28d40d60",
   "metadata": {},
   "source": [
    "#### Input field for player's move"
   ]
  },
  {
   "cell_type": "code",
   "id": "f2cc7a1c09e02c1b",
   "metadata": {
    "ExecuteTime": {
     "end_time": "2025-05-12T13:35:28.202986Z",
     "start_time": "2025-05-12T13:35:28.199230Z"
    }
   },
   "source": [
    "move_input = widgets.Text(\n",
    "    description='Move:',\n",
    "    placeholder='e.g., e2e4',\n",
    "    layout=widgets.Layout(width='200px')\n",
    ")"
   ],
   "outputs": [],
   "execution_count": 32
  },
  {
   "cell_type": "markdown",
   "id": "9181727d349bd12c",
   "metadata": {},
   "source": [
    "### Function Definitions"
   ]
  },
  {
   "cell_type": "markdown",
   "id": "3f411ede03fdd747",
   "metadata": {},
   "source": [
    "#### Function to Display the Chessboard"
   ]
  },
  {
   "cell_type": "code",
   "id": "d3671fd87a8abfb7",
   "metadata": {
    "ExecuteTime": {
     "end_time": "2025-05-12T13:35:28.220637Z",
     "start_time": "2025-05-12T13:35:28.217786Z"
    }
   },
   "source": [
    "def show_board(board):\n",
    "    svg_content = chess.svg.board(board=board, size=400)\n",
    "    display(SVG(svg_content))"
   ],
   "outputs": [],
   "execution_count": 33
  },
  {
   "cell_type": "markdown",
   "id": "5ebbc20f06144365",
   "metadata": {},
   "source": [
    "#### Function to Get the Best Move from the lc0 (one best move)"
   ]
  },
  {
   "cell_type": "code",
   "id": "4440203fc8b06cae",
   "metadata": {
    "ExecuteTime": {
     "end_time": "2025-05-12T13:35:28.240512Z",
     "start_time": "2025-05-12T13:35:28.235070Z"
    }
   },
   "source": [
    "def get_best_move(fen=None, time_limit=2000):\n",
    "    global process\n",
    "    lc0_path = Path(\"D:/GitHub/lc0/lc0.exe\")\n",
    "    if not lc0_path.exists():\n",
    "        raise FileNotFoundError(\"lc0.exe not found, change lc0_path\")\n",
    "\n",
    "    try:\n",
    "        process = subprocess.Popen(str(lc0_path),\n",
    "                                   stdin=subprocess.PIPE,\n",
    "                                   stdout=subprocess.PIPE,\n",
    "                                   stderr=subprocess.PIPE,\n",
    "                                   universal_newlines=True,\n",
    "                                   bufsize=1,\n",
    "                                   cwd=str(lc0_path.parent))\n",
    "\n",
    "        process.stdin.write(\"uci\\n\")\n",
    "        process.stdin.flush()\n",
    "\n",
    "        while process.stdout.readline().strip() != \"uciok\":\n",
    "            pass\n",
    "\n",
    "        position_command = f\"position fen {fen}\" if fen else \"position startpos\"\n",
    "        process.stdin.write(position_command + \"\\n\")\n",
    "        process.stdin.write(f\"go movetime {str(time_limit)}\\n\")\n",
    "        process.stdin.flush()\n",
    "\n",
    "        best_move, score = None, None\n",
    "        for line in process.stdout:\n",
    "            line = line.strip()\n",
    "            if line.startswith(\"info\") and \"score cp\" in line:\n",
    "                try:\n",
    "                    score = int(line.split()[line.split().index(\"score\") + 2])\n",
    "                except (ValueError, IndexError):\n",
    "                    pass\n",
    "            elif line.startswith(\"bestmove\"):\n",
    "                best_move = line.split()[1]\n",
    "                break\n",
    "\n",
    "        return best_move, score\n",
    "\n",
    "    except Exception as e:\n",
    "        print(f\"Error with the engine: {e}\")\n",
    "        return None, None\n",
    "\n",
    "    finally:\n",
    "        if \"process\" in locals():\n",
    "            process.stdin.write(\"quit\\n\")\n",
    "            process.stdin.flush()\n",
    "            process.terminate()\n",
    "            process.wait()"
   ],
   "outputs": [],
   "execution_count": 34
  },
  {
   "cell_type": "markdown",
   "id": "126ddc1171c65cdf",
   "metadata": {},
   "source": [
    "#### Function to Make a Move on the Board"
   ]
  },
  {
   "cell_type": "code",
   "id": "7b058e5ae856e2a9",
   "metadata": {
    "ExecuteTime": {
     "end_time": "2025-05-12T13:35:28.256538Z",
     "start_time": "2025-05-12T13:35:28.253784Z"
    }
   },
   "source": [
    "def make_move(move_str):\n",
    "    try:\n",
    "        move = chess.Move.from_uci(move_str)\n",
    "        if move in board.legal_moves:\n",
    "            board.push(move)\n",
    "            return True\n",
    "        else:\n",
    "            print(\"Illegal move.\")\n",
    "            return False\n",
    "    except ValueError:\n",
    "        print(\"Invalid move format.\")\n",
    "        return False"
   ],
   "outputs": [],
   "execution_count": 35
  },
  {
   "cell_type": "markdown",
   "id": "4b664775c80284fd",
   "metadata": {},
   "source": [
    "#### Function to Update the Board and Show Information"
   ]
  },
  {
   "cell_type": "code",
   "id": "b1869c71427fe201",
   "metadata": {
    "ExecuteTime": {
     "end_time": "2025-05-12T13:35:28.274953Z",
     "start_time": "2025-05-12T13:35:28.269602Z"
    }
   },
   "source": [
    "def show_position():\n",
    "    with board_output:\n",
    "        clear_output(wait=True)\n",
    "        show_board(board)\n",
    "\n",
    "    with info_output:\n",
    "        clear_output(wait=True)\n",
    "        if not board.is_game_over():\n",
    "            best_move, best_score = get_best_move(board.fen())\n",
    "            if best_move:\n",
    "                best_move_uci = best_move\n",
    "                all_legal_moves = list(board.legal_moves)\n",
    "                random_moves = random.sample(all_legal_moves, 2)\n",
    "\n",
    "                moves_with_best = [best_move_uci] + [move.uci() for move in random_moves]\n",
    "                chosen_move = random.choice(moves_with_best)\n",
    "\n",
    "                print(f\"Recommended move: {best_move}\")\n",
    "                print(f\"Position evaluation: {best_score/100 if best_score else 'undefined'}\")\n",
    "                print(f\"{'White' if board.turn else 'Black'} is making a move\")\n",
    "\n",
    "            if board.move_stack:\n",
    "                last_move = board.move_stack[-1]\n",
    "                piece = board.piece_at(chess.parse_square(last_move.uci()[2:]))\n",
    "\n",
    "                if piece:\n",
    "                    piece_name = {\n",
    "                        chess.PAWN: \"pawn\",\n",
    "                        chess.KNIGHT: \"knight\",\n",
    "                        chess.BISHOP: \"bishop\",\n",
    "                        chess.KING: \"king\",\n",
    "                        chess.QUEEN: \"queen\",\n",
    "                        chess.ROOK: \"rook\"\n",
    "                    }[piece.piece_type]\n",
    "                    opponent_move_display.value = f\"{piece_name} {last_move.uci()}\"\n",
    "        else:\n",
    "            result = \"Checkmate!\" if board.is_checkmate() else \"Stalemate!\" if board.is_stalemate() else \"Draw!\"\n",
    "            print(f\"Game Over. {result}\")"
   ],
   "outputs": [],
   "execution_count": 36
  },
  {
   "cell_type": "markdown",
   "id": "85833d0d0b9c7d8a",
   "metadata": {},
   "source": [
    "#### Function to Update the Board and Information"
   ]
  },
  {
   "cell_type": "code",
   "id": "f7bc50e59095f742",
   "metadata": {
    "ExecuteTime": {
     "end_time": "2025-05-12T13:35:28.290525Z",
     "start_time": "2025-05-12T13:35:28.288117Z"
    }
   },
   "source": [
    "def update_board_and_info():\n",
    "    show_position()"
   ],
   "outputs": [],
   "execution_count": 37
  },
  {
   "cell_type": "markdown",
   "id": "9d259234f18a06d2",
   "metadata": {},
   "source": [
    "#### Function for the Computer to Make a Move (for Black's Turn)"
   ]
  },
  {
   "cell_type": "code",
   "id": "e4d4d14cdc569d56",
   "metadata": {
    "ExecuteTime": {
     "end_time": "2025-05-12T13:35:28.307799Z",
     "start_time": "2025-05-12T13:35:28.303905Z"
    }
   },
   "source": [
    "def play_computer_move():\n",
    "    if not board.is_game_over() and board.turn == chess.BLACK:\n",
    "        best_move, best_score = get_best_move(board.fen())\n",
    "        if best_move:\n",
    "            best_move_uci = best_move\n",
    "            all_legal_moves = list(board.legal_moves)\n",
    "            random_moves = random.sample(all_legal_moves, 2)\n",
    "\n",
    "            moves_with_best = [best_move_uci] + [move.uci() for move in random_moves]\n",
    "            move = random.choice(moves_with_best)\n",
    "            make_move(move)\n",
    "            print(f\"Computer made the move: {move}\")\n",
    "            update_board_and_info()"
   ],
   "outputs": [],
   "execution_count": 38
  },
  {
   "cell_type": "markdown",
   "id": "f4a891e7964ea165",
   "metadata": {},
   "source": [
    "### Handler for Button Click"
   ]
  },
  {
   "cell_type": "code",
   "id": "290524dc42becc02",
   "metadata": {
    "ExecuteTime": {
     "end_time": "2025-05-12T13:35:28.325903Z",
     "start_time": "2025-05-12T13:35:28.322530Z"
    }
   },
   "source": [
    "def handle_button_click(action):\n",
    "    if action == 'move':\n",
    "        move_str = move_input.value.strip().lower()\n",
    "        if move_str:\n",
    "            if make_move(move_str):\n",
    "                move_input.value = ''\n",
    "            update_board_and_info()\n",
    "            play_computer_move()\n",
    "\n",
    "    elif action == 'undo':\n",
    "        if len(board.move_stack) >= 2:\n",
    "            board.pop()\n",
    "            board.pop()\n",
    "            opponent_move_display.value = ''\n",
    "            update_board_and_info()\n",
    "\n",
    "        else:\n",
    "            with info_output:\n",
    "                clear_output(wait=True)\n",
    "                print(\"Cannot undo move.\")\n",
    "\n",
    "    elif action == 'new_game':\n",
    "        board.reset()\n",
    "        opponent_move_display.value = ''\n",
    "        update_board_and_info()"
   ],
   "outputs": [],
   "execution_count": 39
  },
  {
   "cell_type": "markdown",
   "id": "c9fa0c93cde577de",
   "metadata": {},
   "source": [
    "### Button Handlers for Move, Undo, and New Game"
   ]
  },
  {
   "cell_type": "code",
   "id": "24af3d149d21c1e8",
   "metadata": {
    "ExecuteTime": {
     "end_time": "2025-05-12T13:35:28.341818Z",
     "start_time": "2025-05-12T13:35:28.339031Z"
    }
   },
   "source": [
    "def on_move_button_click(b):\n",
    "    handle_button_click(\"move\")\n",
    "\n",
    "def on_undo_button_click(b):\n",
    "    handle_button_click(\"undo\")\n",
    "\n",
    "def on_new_game_button_click(b):\n",
    "    handle_button_click(\"new_game\")"
   ],
   "outputs": [],
   "execution_count": 40
  },
  {
   "cell_type": "markdown",
   "id": "88331383d88bf01e",
   "metadata": {},
   "source": [
    "### Create Input and Control Widgets"
   ]
  },
  {
   "cell_type": "code",
   "id": "8c9fe1339cd2259d",
   "metadata": {
    "ExecuteTime": {
     "end_time": "2025-05-12T13:35:28.362791Z",
     "start_time": "2025-05-12T13:35:28.355659Z"
    }
   },
   "source": [
    "move_input = widgets.Text(\n",
    "    description='Move:',\n",
    "    placeholder='e.g., e2e4',\n",
    "    layout=widgets.Layout(width='200px')\n",
    ")\n",
    "\n",
    "move_button = widgets.Button(description=\"Make Move\", button_style=\"success\")\n",
    "undo_button = widgets.Button(description=\"Undo Move\", button_style=\"warning\")\n",
    "new_game_button = widgets.Button(description=\"New Game\", button_style=\"info\")\n"
   ],
   "outputs": [],
   "execution_count": 41
  },
  {
   "cell_type": "markdown",
   "id": "ca4f534e3d5d29fd",
   "metadata": {},
   "source": [
    "### Button Creation and Custom Layout Styling"
   ]
  },
  {
   "cell_type": "code",
   "id": "c859e44db43a00ab",
   "metadata": {
    "ExecuteTime": {
     "end_time": "2025-05-12T13:35:28.382643Z",
     "start_time": "2025-05-12T13:35:28.376114Z"
    }
   },
   "source": [
    "move_button = widgets.Button(\n",
    "    description=\"Make Move\",\n",
    "    layout=widgets.Layout(width=\"200px\", height=\"50px\"),\n",
    "    style={'button_color': '#9fc3d1', 'font_weight': 'bold'}\n",
    ")\n",
    "\n",
    "undo_button = widgets.Button(\n",
    "    description=\"Undo Move\",\n",
    "    layout=widgets.Layout(width=\"200px\", height=\"50px\"),\n",
    "    style={'button_color': '#4a656d', 'font_weight': 'bold'}\n",
    ")\n",
    "\n",
    "new_game_button = widgets.Button(\n",
    "    description=\"New Game\",\n",
    "    layout=widgets.Layout(width=\"200px\", height=\"50px\"),\n",
    "    style={'button_color': '#86abb6', 'font_weight': 'bold'}\n",
    ")"
   ],
   "outputs": [],
   "execution_count": 42
  },
  {
   "cell_type": "markdown",
   "id": "7e7c8380bf097ab9",
   "metadata": {},
   "source": [
    "#### Bind Buttons to Functions"
   ]
  },
  {
   "cell_type": "code",
   "id": "396b6174efb884b0",
   "metadata": {
    "ExecuteTime": {
     "end_time": "2025-05-12T13:35:28.399447Z",
     "start_time": "2025-05-12T13:35:28.397032Z"
    }
   },
   "source": [
    "move_button.on_click(on_move_button_click)\n",
    "undo_button.on_click(on_undo_button_click)\n",
    "new_game_button.on_click(on_new_game_button_click)"
   ],
   "outputs": [],
   "execution_count": 43
  },
  {
   "cell_type": "markdown",
   "id": "29fff9262eb22ff5",
   "metadata": {},
   "source": [
    "### Layout for Controls"
   ]
  },
  {
   "cell_type": "code",
   "id": "ebab6a510a9648ee",
   "metadata": {
    "ExecuteTime": {
     "end_time": "2025-05-12T13:35:28.418517Z",
     "start_time": "2025-05-12T13:35:28.413288Z"
    }
   },
   "source": [
    "controls = widgets.VBox([\n",
    "    widgets.HBox([move_input, move_button]),\n",
    "    widgets.HBox([undo_button, new_game_button]),\n",
    "    opponent_move_display\n",
    "])"
   ],
   "outputs": [],
   "execution_count": 44
  },
  {
   "cell_type": "markdown",
   "id": "18d689b6e01ef256",
   "metadata": {},
   "source": [
    "### Display the Interface"
   ]
  },
  {
   "cell_type": "code",
   "id": "cd743d7b1080ecc4",
   "metadata": {
    "ExecuteTime": {
     "end_time": "2025-05-12T13:35:30.181469Z",
     "start_time": "2025-05-12T13:35:28.433121Z"
    }
   },
   "source": [
    "display(controls)\n",
    "display(board_output)\n",
    "display(info_output)\n",
    "\n",
    "update_board_and_info()"
   ],
   "outputs": [
    {
     "data": {
      "text/plain": [
       "VBox(children=(HBox(children=(Text(value='', description='Move:', layout=Layout(width='200px'), placeholder='e…"
      ],
      "application/vnd.jupyter.widget-view+json": {
       "version_major": 2,
       "version_minor": 0,
       "model_id": "2f40232873ce46258e7a980cc4973a6d"
      }
     },
     "metadata": {},
     "output_type": "display_data"
    },
    {
     "data": {
      "text/plain": [
       "Output()"
      ],
      "application/vnd.jupyter.widget-view+json": {
       "version_major": 2,
       "version_minor": 0,
       "model_id": "b9be4ad7fa60441bb6b8b43836cc0984"
      }
     },
     "metadata": {},
     "output_type": "display_data"
    },
    {
     "data": {
      "text/plain": [
       "Output()"
      ],
      "application/vnd.jupyter.widget-view+json": {
       "version_major": 2,
       "version_minor": 0,
       "model_id": "5808f0c776a04e98a473a99ddaf58479"
      }
     },
     "metadata": {},
     "output_type": "display_data"
    }
   ],
   "execution_count": 45
  },
  {
   "cell_type": "markdown",
   "id": "1ebc219350b95450",
   "metadata": {},
   "source": "### Visualization"
  },
  {
   "metadata": {},
   "cell_type": "markdown",
   "source": "#### Connect CPU and GPU",
   "id": "e68c2f2d5bfa4712"
  },
  {
   "metadata": {
    "ExecuteTime": {
     "end_time": "2025-05-12T13:35:30.197681Z",
     "start_time": "2025-05-12T13:35:30.195294Z"
    }
   },
   "cell_type": "code",
   "source": [
    "def is_gpu_available():\n",
    "    return torch.cuda.is_available()"
   ],
   "id": "5a82d65f4546f07a",
   "outputs": [],
   "execution_count": 46
  },
  {
   "metadata": {
    "ExecuteTime": {
     "end_time": "2025-05-12T13:35:30.213522Z",
     "start_time": "2025-05-12T13:35:30.211039Z"
    }
   },
   "cell_type": "code",
   "source": [
    "def measure_load(cpu_only=False):\n",
    "    cpu_usage = psutil.cpu_percent(interval=0.1)\n",
    "    gpu_usage = 0\n",
    "    if not cpu_only and is_gpu_available():\n",
    "        gpu_usage = torch.cuda.memory_allocated()\n",
    "    return cpu_usage, gpu_usage"
   ],
   "id": "7a230382d7824018",
   "outputs": [],
   "execution_count": 47
  },
  {
   "cell_type": "markdown",
   "id": "bbd188ed40d6ee58",
   "metadata": {},
   "source": "#### Automatic game from which I got data"
  },
  {
   "metadata": {},
   "cell_type": "markdown",
   "source": "##### Examples of evaluations_white, evaluations_black, cpu_usage_list, gpu_usage_list",
   "id": "ef21aaf7898e089e"
  },
  {
   "metadata": {
    "ExecuteTime": {
     "end_time": "2025-05-12T13:35:30.332118Z",
     "start_time": "2025-05-12T13:35:30.226610Z"
    }
   },
   "cell_type": "code",
   "source": [
    "evaluations_white = [(-24, 2), (-24, 4), (-24, 6), (-24, 8), (-25, 10), (-25, 12), (-26, 14), (-29, 16), (-35, 18), (-34, 20), (-34, 22), (-36, 24), (-39, 26), (-40, 28), (-40, 30), (-42, 32), (-40, 34), (-41, 36), (-43, 38), (-40, 40), (-37, 42), (-34, 44), (-36, 46), (-35, 48), (-31, 50), (-30, 52), (-29, 54), (-25, 56), (-22, 58), (-20, 60), (-20, 62), (-22, 64), (-19, 66), (-20, 68), (-18, 70), (-14, 72), (-11, 74), (-11, 76), (-10, 78), (-15, 80), (-14, 82), (-14, 84), (-6, 86), (-12, 88), (-13, 90), (-7, 92), (-4, 94), (-10, 96), (-6, 98), (-15, 100), (-3, 102), (-9, 104), (1, 106), (-6, 108), (0, 110), (0, 112), (3, 114), (3, 116), (0, 118), (5, 120), (2, 122), (4, 124), (0, 126), (6, 128), (1, 130), (4, 132), (6, 134), (13, 136), (12, 138), (16, 140), (14, 142), (20, 144), (15, 146), (13, 148), (10, 150), (9, 152), (2, 154), (5, 156), (0, 158)]\n",
    "\n",
    "evaluations_black = [(27, 1), (27, 3), (25, 5), (25, 7), (27, 9), (27, 11), (28, 13), (31, 15), (37, 17), (37, 19), (36, 21), (38, 23), (39, 25), (41, 27), (42, 29), (44, 31), (46, 33), (42, 35), (45, 37), (46, 39), (40, 41), (35, 43), (38, 45), (38, 47), (34, 49), (34, 51), (32, 53), (29, 55), (27, 57), (27, 59), (24, 61), (25, 63), (25, 65), (23, 67), (21, 69), (19, 71), (17, 73), (15, 75), (12, 77), (16, 79), (20, 81), (17, 83), (13, 85), (16, 87), (19, 89), (17, 91), (12, 93), (14, 95), (12, 97), (19, 99), (13, 101), (0, 103), (5, 105), (9, 107), (0, 109), (7, 111), (8, 113), (0, 115), (-1, 117), (1, 119), (0, 121), (2, 123), (-1, 125), (1, 127), (0, 129), (2, 131), (1, 133), (-5, 135), (-10, 137), (-11, 139), (-11, 141), (-12, 143), (-11, 145), (-12, 147), (-8, 149), (-4, 151), (0, 153), (5, 155), (7, 157), (0, 159)]\n",
    "\n",
    "cpu_usage_list = [5.2, 0.0, 4.2, 0.0, 4.9, 0.0, 10.6, 0.0, 0.0, 4.2, 12.8, 9.5, 5.4, 6.5, 20.4, 2.1, 7.8, 4.6, 6.1, 2.1, 33.3, 6.2, 7.3, 7.2, 2.0, 9.4, 3.0, 9.0, 8.2, 2.9, 5.2, 7.1, 3.0, 3.6, 2.8, 2.9, 4.1, 2.1, 4.2, 1.0, 3.1, 4.5, 5.2, 5.2, 0.0, 1.9, 4.2, 4.5, 0.0, 5.2, 12.5, 8.1, 0.0, 3.0, 4.2, 0.0, 2.8, 2.8, 2.1, 2.0, 2.1, 1.0, 6.4, 0.0, 1.8, 4.6, 6.4, 2.7, 5.2, 0.0, 3.6, 3.9, 2.1, 7.1, 3.5, 10.8, 12.5, 3.8, 0.9, 4.2, 3.1, 1.0, 4.3, 2.0, 2.1, 3.1, 2.0, 16.7, 7.2, 10.7, 4.1, 5.1, 0.0, 0.0, 16.1, 3.1, 5.8, 4.0, 0.0, 4.9, 5.8, 15.5, 2.9, 11.9, 5.2, 6.1, 4.1, 5.5, 3.0, 10.1, 5.7, 2.1, 1.8, 5.2, 0.0, 5.3, 4.0, 2.0, 0.0, 13.5, 5.0, 6.1, 3.2, 4.6, 6.5, 10.4, 7.5, 2.8, 6.1, 5.2, 9.1, 6.2, 2.1, 10.4, 12.0, 2.0, 2.1, 5.7, 3.0, 5.3, 7.3, 1.8, 3.7, 2.8, 3.8, 2.1, 4.2, 8.0, 0.0, 4.0, 13.5, 4.5, 6.0, 5.5, 6.6, 3.9, 1.0, 7.2, 6.2]\n",
    "\n",
    "gpu_usage_list = [0, 0, 0, 0, 0, 0, 0, 0, 0, 0, 0, 0, 0, 0, 0, 0, 0, 0, 0, 0, 0, 0, 0, 0, 0, 0, 0, 0, 0, 0, 0, 0, 0, 0, 0, 0, 0, 0, 0, 0, 0, 0, 0, 0, 0, 0, 0, 0, 0, 0, 0, 0, 0, 0, 0, 0, 0, 0, 0, 0, 0, 0, 0, 0, 0, 0, 0, 0, 0, 0, 0, 0, 0, 0, 0, 0, 0, 0, 0, 0, 0, 0, 0, 0, 0, 0, 0, 0, 0, 0, 0, 0, 0, 0, 0, 0, 0, 0, 0, 0, 0, 0, 0, 0, 0, 0, 0, 0, 0, 0, 0, 0, 0, 0, 0, 0, 0, 0, 0, 0, 0, 0, 0, 0, 0, 0, 0, 0, 0, 0, 0, 0, 0, 0, 0, 0, 0, 0, 0, 0, 0, 0, 0, 0, 0, 0, 0, 0, 0, 0, 0, 0, 0, 0, 0, 0, 0, 0, 0]\n",
    "\n",
    "move_times = [1801.506519317627, 1836.7760181427002, 1408.1101417541504, 1701.3745307922363, 1653.8712978363037, 1350.2984046936035, 1373.1260299682617, 1401.4320373535156, 1462.6379013061523, 1363.757610321045, 1349.0800857543945, 1407.487154006958, 1383.392572402954, 1349.5779037475586, 1731.6911220550537, 1352.4165153503418, 1562.1662139892578, 1377.9501914978027, 1342.0836925506592, 1378.0643939971924, 1341.1006927490234, 1536.1831188201904, 1398.5002040863037, 1401.8921852111816, 1384.6728801727295, 1352.1332740783691, 1434.5002174377441, 1545.3219413757324, 1358.5760593414307, 1336.583137512207, 1420.9873676300049, 1565.1025772094727, 1478.5199165344238, 1490.5955791473389, 1447.324514389038, 1524.7328281402588, 1370.152235031128, 1357.2964668273926, 1461.9414806365967, 1439.7459030151367, 1829.7662734985352, 1391.0167217254639, 1723.7262725830078, 1560.01877784729, 1777.6422500610352, 1528.076171875, 1425.0304698944092, 1542.4106121063232, 1501.2927055358887, 1338.9842510223389, 1385.624885559082, 1465.8002853393555, 1725.576639175415, 1440.561056137085, 1716.9849872589111, 1404.064655303955, 1649.0230560302734, 1377.9771327972412, 1690.2928352355957, 1392.3046588897705, 1368.067979812622, 1428.3626079559326, 1404.7420024871826, 1383.0747604370117, 1393.0284976959229, 1387.2947692871094, 1697.0179080963135, 1347.853422164917, 1854.597806930542, 1390.6042575836182, 1386.0859870910645, 1401.9653797149658, 1365.8387660980225, 1461.0116481781006, 1608.5031032562256, 1561.7423057556152, 1436.6462230682373, 1867.4523830413818, 1444.4942474365234, 1402.172565460205, 1418.1911945343018, 1360.0282669067383, 1660.3970527648926, 1651.918649673462, 1802.9940128326416, 1340.6760692596436, 1630.0396919250488, 1342.6368236541748, 1605.125904083252, 1329.0972709655762, 1332.8750133514404, 1317.3291683197021, 1475.6178855895996, 1332.0457935333252, 1596.35591506958, 1346.5993404388428, 1835.590124130249, 1391.9398784637451, 1911.1285209655762, 1381.9198608398438]"
   ],
   "id": "51460f5e44431b85",
   "outputs": [],
   "execution_count": 48
  },
  {
   "metadata": {
    "ExecuteTime": {
     "end_time": "2025-05-12T13:35:30.348358Z",
     "start_time": "2025-05-12T13:35:30.344481Z"
    }
   },
   "cell_type": "code",
   "source": [
    "def play_full_game():\n",
    "    board.reset()\n",
    "    evaluations_white = []\n",
    "    evaluations_black = []\n",
    "    move_number = 1\n",
    "\n",
    "    cpu_usage_list = []\n",
    "    gpu_usage_list = []\n",
    "    move_times = []\n",
    "\n",
    "    while not board.is_game_over():\n",
    "        start_time = time.time()\n",
    "\n",
    "        best_move, best_score = get_best_move(board.fen())\n",
    "\n",
    "        if best_move:\n",
    "            make_move(best_move)\n",
    "            if board.turn == chess.WHITE:\n",
    "                evaluations_white.append((best_score, move_number))\n",
    "            else:\n",
    "                evaluations_black.append((best_score, move_number))\n",
    "\n",
    "            cpu_usage, gpu_usage = measure_load(cpu_only=False)\n",
    "            cpu_usage_list.append(cpu_usage)\n",
    "            gpu_usage_list.append(gpu_usage)\n",
    "\n",
    "            move_time = (time.time() - start_time) * 1000\n",
    "            move_times.append(move_time)\n",
    "\n",
    "            move_number += 1\n",
    "            update_board_and_info()\n",
    "\n",
    "            time.sleep(0.1)\n",
    "\n",
    "    print(\"Game Over. Evaluations are stored.\")\n",
    "    return evaluations_white, evaluations_black, cpu_usage_list, gpu_usage_list, move_times"
   ],
   "id": "ba91e176973aaf8b",
   "outputs": [],
   "execution_count": 49
  },
  {
   "metadata": {},
   "cell_type": "markdown",
   "source": "#### Function for CPU and GPU load graphing",
   "id": "6a4dcbea70b12256"
  },
  {
   "metadata": {
    "ExecuteTime": {
     "end_time": "2025-05-12T13:35:30.471945Z",
     "start_time": "2025-05-12T13:35:30.361897Z"
    }
   },
   "cell_type": "code",
   "source": [
    "def plot_load(cpu_usage_list, gpu_usage_list):\n",
    "    plt.figure(figsize=(10, 6))\n",
    "\n",
    "    plt.plot(cpu_usage_list, label=\"CPU Usage\", color=\"#4a656d\", linestyle='-', marker='o')\n",
    "\n",
    "    plt.plot(gpu_usage_list, label=\"GPU Usage\", color=\"#9fc3d1\", linestyle='-', marker='x')\n",
    "\n",
    "    plt.xlabel('Move Number')\n",
    "    plt.ylabel('Usage (%)')\n",
    "    plt.title('CPU and GPU Load During the Game')\n",
    "    plt.legend()\n",
    "    plt.show()\n",
    "\n",
    "'''\n",
    "evaluations_white, evaluations_black, cpu_usage_list, gpu_usage_list, move_times = play_full_game()\n",
    "'''\n",
    "\n",
    "plot_load(cpu_usage_list, gpu_usage_list)"
   ],
   "id": "be15b32806348e6",
   "outputs": [
    {
     "data": {
      "text/plain": [
       "<Figure size 1000x600 with 1 Axes>"
      ],
      "image/png": "[encoded data removed]"
     },
     "metadata": {},
     "output_type": "display_data"
    }
   ],
   "execution_count": 50
  },
  {
   "metadata": {},
   "cell_type": "markdown",
   "source": "#### Function for time tracking for one stroke",
   "id": "5617e0c817712f0b"
  },
  {
   "metadata": {
    "ExecuteTime": {
     "end_time": "2025-05-12T13:35:30.593791Z",
     "start_time": "2025-05-12T13:35:30.485574Z"
    }
   },
   "cell_type": "code",
   "source": [
    "def plot_move_times(move_times):\n",
    "    plt.figure(figsize=(12, 6))\n",
    "    plt.hist(move_times, bins=20, alpha=0.7, color='#9fc3d1', edgecolor='black', label=\"Move Time (ms)\")\n",
    "\n",
    "    plt.xlabel(\"Move Time (ms)\")\n",
    "    plt.ylabel(\"Frequency\")\n",
    "    plt.title(\"Histogram: Time Taken by Engine for Each Move\")\n",
    "    plt.legend()\n",
    "    plt.show()\n",
    "\n",
    "plot_move_times(move_times)"
   ],
   "id": "1c313283d3d7e34a",
   "outputs": [
    {
     "data": {
      "text/plain": [
       "<Figure size 1200x600 with 1 Axes>"
      ],
      "image/png": "[encoded data removed]"
     },
     "metadata": {},
     "output_type": "display_data"
    }
   ],
   "execution_count": 51
  },
  {
   "metadata": {},
   "cell_type": "markdown",
   "source": [
    "#### Position evaluation per move histogram\n",
    "##### clearly shows how the position changed and which player had the advantage throughout the game. Each bar represents the position score after each move, where one group of bars represents the scores for White players and the other group represents the scores for Black players"
   ],
   "id": "9edeef1e2ac41b66"
  },
  {
   "cell_type": "code",
   "id": "7a4e831593333245",
   "metadata": {
    "ExecuteTime": {
     "end_time": "2025-05-12T13:35:30.881118Z",
     "start_time": "2025-05-12T13:35:30.606898Z"
    }
   },
   "source": [
    "len_white = len(evaluations_white)\n",
    "len_black = len(evaluations_black)\n",
    "\n",
    "if len_white > len_black:\n",
    "    evaluations_black.extend([(0, i) for i in range(len_black, len_white)])\n",
    "elif len_black > len_white:\n",
    "    evaluations_white.extend([(0, i) for i in range(len_white, len_black)])\n",
    "\n",
    "white_evaluations = [score for score, _ in evaluations_white]\n",
    "black_evaluations = [score for score, _ in evaluations_black]\n",
    "\n",
    "fig, ax = plt.subplots(figsize=(12, 6))\n",
    "\n",
    "x = np.arange(len(white_evaluations))\n",
    "width = 0.35\n",
    "\n",
    "ax.bar(x - width/2, white_evaluations, width, label='White', color='#9fc3d1')\n",
    "ax.bar(x + width/2, black_evaluations, width, label='Black', color='#4a656d')\n",
    "\n",
    "ax.set_xlabel('Move Number')\n",
    "ax.set_ylabel('Evaluation')\n",
    "ax.set_title('Chess Game Evaluation for White and Black')\n",
    "\n",
    "tick_interval = 5\n",
    "ax.set_xticks(x[::tick_interval])\n",
    "ax.set_xticklabels([f'{i+1}' for i in x[::tick_interval]])\n",
    "plt.xticks(rotation=45)\n",
    "\n",
    "ax.legend()\n",
    "\n",
    "plt.tight_layout()\n",
    "plt.show()"
   ],
   "outputs": [
    {
     "data": {
      "text/plain": [
       "<Figure size 1200x600 with 1 Axes>"
      ],
      "image/png": "[encoded data removed]"
     },
     "metadata": {},
     "output_type": "display_data"
    }
   ],
   "execution_count": 52
  },
  {
   "metadata": {},
   "cell_type": "markdown",
   "source": "## STOCKFISH",
   "id": "70d2e5b26c59f7f1"
  },
  {
   "metadata": {
    "ExecuteTime": {
     "end_time": "2025-05-12T13:40:10.638463Z",
     "start_time": "2025-05-12T13:40:10.636059Z"
    }
   },
   "cell_type": "code",
   "source": "",
   "id": "542c7af10b076b39",
   "outputs": [],
   "execution_count": 54
  }
 ],
 "metadata": {
  "kernelspec": {
   "display_name": "Python 3 (ipykernel)",
   "language": "python",
   "name": "python3"
  },
  "language_info": {
   "codemirror_mode": {
    "name": "ipython",
    "version": 3
   },
   "file_extension": ".py",
   "mimetype": "text/x-python",
   "name": "python",
   "nbconvert_exporter": "python",
   "pygments_lexer": "ipython3",
   "version": "3.13.3"
  }
 },
 "nbformat": 4,
 "nbformat_minor": 5
}
