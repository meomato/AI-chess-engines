{
 "cells": [
  {
   "cell_type": "markdown",
   "id": "1e65b92ad1da3a46",
   "metadata": {},
   "source": [
    "## LC0"
   ]
  },
  {
   "cell_type": "markdown",
   "id": "1472379268d74325",
   "metadata": {},
   "source": [
    "#### Import necessary libraries"
   ]
  },
  {
   "cell_type": "code",
   "id": "e4ddcd9ea66b8124",
   "metadata": {},
   "source": [
    "import chess\n",
    "import chess.svg\n",
    "import subprocess\n",
    "from pathlib import Path\n",
    "import ipywidgets as widgets\n",
    "from IPython.display import display, clear_output, SVG\n",
    "import random\n",
    "import matplotlib.pyplot as plt\n",
    "import time\n",
    "import numpy as np"
   ],
   "outputs": [],
   "execution_count": null
  },
  {
   "cell_type": "markdown",
   "id": "1c5dbcc9da50dbc5",
   "metadata": {},
   "source": [
    "### Initialization of Chess Board and Widgets"
   ]
  },
  {
   "cell_type": "code",
   "id": "d513b4959a3912e7",
   "metadata": {},
   "source": [
    "board = chess.Board()\n",
    "board_output = widgets.Output()\n",
    "info_output = widgets.Output()"
   ],
   "outputs": [],
   "execution_count": null
  },
  {
   "cell_type": "markdown",
   "id": "3b15412c9ea78113",
   "metadata": {},
   "source": [
    "#### Display the last move made"
   ]
  },
  {
   "cell_type": "code",
   "id": "c180fba958374b00",
   "metadata": {},
   "source": [
    "opponent_move_display = widgets.Text(\n",
    "    description='Last Move:',\n",
    "    disabled=True,\n",
    "    layout=widgets.Layout(width='300px')\n",
    ")"
   ],
   "outputs": [],
   "execution_count": null
  },
  {
   "cell_type": "markdown",
   "id": "183256c28d40d60",
   "metadata": {},
   "source": [
    "#### Input field for player's move"
   ]
  },
  {
   "cell_type": "code",
   "id": "f2cc7a1c09e02c1b",
   "metadata": {},
   "source": [
    "move_input = widgets.Text(\n",
    "    description='Move:',\n",
    "    placeholder='e.g., e2e4',\n",
    "    layout=widgets.Layout(width='200px')\n",
    ")"
   ],
   "outputs": [],
   "execution_count": null
  },
  {
   "cell_type": "markdown",
   "id": "9181727d349bd12c",
   "metadata": {},
   "source": [
    "### Function Definitions"
   ]
  },
  {
   "cell_type": "markdown",
   "id": "3f411ede03fdd747",
   "metadata": {},
   "source": [
    "#### Function to Display the Chessboard"
   ]
  },
  {
   "cell_type": "code",
   "id": "d3671fd87a8abfb7",
   "metadata": {},
   "source": [
    "def show_board(board):\n",
    "    svg_content = chess.svg.board(board=board, size=400)\n",
    "    display(SVG(svg_content))"
   ],
   "outputs": [],
   "execution_count": null
  },
  {
   "cell_type": "markdown",
   "id": "5ebbc20f06144365",
   "metadata": {},
   "source": [
    "#### Function to Get the Best Move from the lc0 (one best move)"
   ]
  },
  {
   "cell_type": "code",
   "id": "4440203fc8b06cae",
   "metadata": {},
   "source": [
    "def get_best_move(fen=None, time_limit=2000):\n",
    "    global process\n",
    "    lc0_path = Path(\"D:/GitHub/lc0/lc0.exe\")\n",
    "    if not lc0_path.exists():\n",
    "        raise FileNotFoundError(\"lc0.exe not found, change lc0_path\")\n",
    "\n",
    "    try:\n",
    "        process = subprocess.Popen(str(lc0_path),\n",
    "                                   stdin=subprocess.PIPE,\n",
    "                                   stdout=subprocess.PIPE,\n",
    "                                   stderr=subprocess.PIPE,\n",
    "                                   universal_newlines=True,\n",
    "                                   bufsize=1,\n",
    "                                   cwd=str(lc0_path.parent))\n",
    "\n",
    "        process.stdin.write(\"uci\\n\")\n",
    "        process.stdin.flush()\n",
    "\n",
    "        while process.stdout.readline().strip() != \"uciok\":\n",
    "            pass\n",
    "\n",
    "        position_command = f\"position fen {fen}\" if fen else \"position startpos\"\n",
    "        process.stdin.write(position_command + \"\\n\")\n",
    "        process.stdin.write(f\"go movetime {str(time_limit)}\\n\")\n",
    "        process.stdin.flush()\n",
    "\n",
    "        best_move, score = None, None\n",
    "        for line in process.stdout:\n",
    "            line = line.strip()\n",
    "            if line.startswith(\"info\") and \"score cp\" in line:\n",
    "                try:\n",
    "                    score = int(line.split()[line.split().index(\"score\") + 2])\n",
    "                except (ValueError, IndexError):\n",
    "                    pass\n",
    "            elif line.startswith(\"bestmove\"):\n",
    "                best_move = line.split()[1]\n",
    "                break\n",
    "\n",
    "        return best_move, score\n",
    "\n",
    "    except Exception as e:\n",
    "        print(f\"Error with the engine: {e}\")\n",
    "        return None, None\n",
    "\n",
    "    finally:\n",
    "        if \"process\" in locals():\n",
    "            process.stdin.write(\"quit\\n\")\n",
    "            process.stdin.flush()\n",
    "            process.terminate()\n",
    "            process.wait()"
   ],
   "outputs": [],
   "execution_count": null
  },
  {
   "cell_type": "markdown",
   "id": "126ddc1171c65cdf",
   "metadata": {},
   "source": [
    "#### Function to Make a Move on the Board"
   ]
  },
  {
   "cell_type": "code",
   "id": "7b058e5ae856e2a9",
   "metadata": {},
   "source": [
    "def make_move(move_str):\n",
    "    try:\n",
    "        move = chess.Move.from_uci(move_str)\n",
    "        if move in board.legal_moves:\n",
    "            board.push(move)\n",
    "            return True\n",
    "        else:\n",
    "            print(\"Illegal move.\")\n",
    "            return False\n",
    "    except ValueError:\n",
    "        print(\"Invalid move format.\")\n",
    "        return False"
   ],
   "outputs": [],
   "execution_count": null
  },
  {
   "cell_type": "markdown",
   "id": "4b664775c80284fd",
   "metadata": {},
   "source": [
    "#### Function to Update the Board and Show Information"
   ]
  },
  {
   "cell_type": "code",
   "id": "b1869c71427fe201",
   "metadata": {},
   "source": [
    "def show_position():\n",
    "    with board_output:\n",
    "        clear_output(wait=True)\n",
    "        show_board(board)\n",
    "\n",
    "    with info_output:\n",
    "        clear_output(wait=True)\n",
    "        if not board.is_game_over():\n",
    "            best_move, best_score = get_best_move(board.fen())\n",
    "            if best_move:\n",
    "                best_move_uci = best_move\n",
    "                all_legal_moves = list(board.legal_moves)\n",
    "                random_moves = random.sample(all_legal_moves, 2)\n",
    "\n",
    "                moves_with_best = [best_move_uci] + [move.uci() for move in random_moves]\n",
    "                chosen_move = random.choice(moves_with_best)\n",
    "\n",
    "                print(f\"Recommended move: {best_move}\")\n",
    "                print(f\"Position evaluation: {best_score/100 if best_score else 'undefined'}\")\n",
    "                print(f\"{'White' if board.turn else 'Black'} is making a move\")\n",
    "\n",
    "            if board.move_stack:\n",
    "                last_move = board.move_stack[-1]\n",
    "                piece = board.piece_at(chess.parse_square(last_move.uci()[2:]))\n",
    "\n",
    "                if piece:\n",
    "                    piece_name = {\n",
    "                        chess.PAWN: \"pawn\",\n",
    "                        chess.KNIGHT: \"knight\",\n",
    "                        chess.BISHOP: \"bishop\",\n",
    "                        chess.KING: \"king\",\n",
    "                        chess.QUEEN: \"queen\",\n",
    "                        chess.ROOK: \"rook\"\n",
    "                    }[piece.piece_type]\n",
    "                    opponent_move_display.value = f\"{piece_name} {last_move.uci()}\"\n",
    "        else:\n",
    "            result = \"Checkmate!\" if board.is_checkmate() else \"Stalemate!\" if board.is_stalemate() else \"Draw!\"\n",
    "            print(f\"Game Over. {result}\")"
   ],
   "outputs": [],
   "execution_count": null
  },
  {
   "cell_type": "markdown",
   "id": "85833d0d0b9c7d8a",
   "metadata": {},
   "source": [
    "#### Function to Update the Board and Information"
   ]
  },
  {
   "cell_type": "code",
   "id": "f7bc50e59095f742",
   "metadata": {},
   "source": [
    "def update_board_and_info():\n",
    "    show_position()"
   ],
   "outputs": [],
   "execution_count": null
  },
  {
   "cell_type": "markdown",
   "id": "9d259234f18a06d2",
   "metadata": {},
   "source": [
    "#### Function for the Computer to Make a Move (for Black's Turn)"
   ]
  },
  {
   "cell_type": "code",
   "id": "e4d4d14cdc569d56",
   "metadata": {},
   "source": [
    "def play_computer_move():\n",
    "    if not board.is_game_over() and board.turn == chess.BLACK:\n",
    "        best_move, best_score = get_best_move(board.fen())\n",
    "        if best_move:\n",
    "            best_move_uci = best_move\n",
    "            all_legal_moves = list(board.legal_moves)\n",
    "            random_moves = random.sample(all_legal_moves, 2)\n",
    "\n",
    "            moves_with_best = [best_move_uci] + [move.uci() for move in random_moves]\n",
    "            move = random.choice(moves_with_best)\n",
    "            make_move(move)\n",
    "            print(f\"Computer made the move: {move}\")\n",
    "            update_board_and_info()"
   ],
   "outputs": [],
   "execution_count": null
  },
  {
   "cell_type": "markdown",
   "id": "f4a891e7964ea165",
   "metadata": {},
   "source": [
    "### Handler for Button Click"
   ]
  },
  {
   "cell_type": "code",
   "id": "290524dc42becc02",
   "metadata": {},
   "source": [
    "def handle_button_click(action):\n",
    "    if action == 'move':\n",
    "        move_str = move_input.value.strip().lower()\n",
    "        if move_str:\n",
    "            if make_move(move_str):\n",
    "                move_input.value = ''\n",
    "            update_board_and_info()\n",
    "            play_computer_move()\n",
    "\n",
    "    elif action == 'undo':\n",
    "        if len(board.move_stack) >= 2:\n",
    "            board.pop()\n",
    "            board.pop()\n",
    "            opponent_move_display.value = ''\n",
    "            update_board_and_info()\n",
    "\n",
    "        else:\n",
    "            with info_output:\n",
    "                clear_output(wait=True)\n",
    "                print(\"Cannot undo move.\")\n",
    "\n",
    "    elif action == 'new_game':\n",
    "        board.reset()\n",
    "        opponent_move_display.value = ''\n",
    "        update_board_and_info()"
   ],
   "outputs": [],
   "execution_count": null
  },
  {
   "cell_type": "markdown",
   "id": "c9fa0c93cde577de",
   "metadata": {},
   "source": [
    "### Button Handlers for Move, Undo, and New Game"
   ]
  },
  {
   "cell_type": "code",
   "id": "24af3d149d21c1e8",
   "metadata": {},
   "source": [
    "def on_move_button_click(b):\n",
    "    handle_button_click(\"move\")\n",
    "\n",
    "def on_undo_button_click(b):\n",
    "    handle_button_click(\"undo\")\n",
    "\n",
    "def on_new_game_button_click(b):\n",
    "    handle_button_click(\"new_game\")"
   ],
   "outputs": [],
   "execution_count": null
  },
  {
   "cell_type": "markdown",
   "id": "88331383d88bf01e",
   "metadata": {},
   "source": [
    "### Create Input and Control Widgets"
   ]
  },
  {
   "cell_type": "code",
   "id": "8c9fe1339cd2259d",
   "metadata": {},
   "source": [
    "move_input = widgets.Text(\n",
    "    description='Move:',\n",
    "    placeholder='e.g., e2e4',\n",
    "    layout=widgets.Layout(width='200px')\n",
    ")\n",
    "\n",
    "move_button = widgets.Button(description=\"Make Move\", button_style=\"success\")\n",
    "undo_button = widgets.Button(description=\"Undo Move\", button_style=\"warning\")\n",
    "new_game_button = widgets.Button(description=\"New Game\", button_style=\"info\")\n"
   ],
   "outputs": [],
   "execution_count": null
  },
  {
   "cell_type": "markdown",
   "id": "ca4f534e3d5d29fd",
   "metadata": {},
   "source": [
    "### Button Creation and Custom Layout Styling"
   ]
  },
  {
   "cell_type": "code",
   "id": "c859e44db43a00ab",
   "metadata": {},
   "source": [
    "move_button = widgets.Button(\n",
    "    description=\"Make Move\",\n",
    "    layout=widgets.Layout(width=\"200px\", height=\"50px\"),\n",
    "    style={'button_color': '#9fc3d1', 'font_weight': 'bold'}\n",
    ")\n",
    "\n",
    "undo_button = widgets.Button(\n",
    "    description=\"Undo Move\",\n",
    "    layout=widgets.Layout(width=\"200px\", height=\"50px\"),\n",
    "    style={'button_color': '#4a656d', 'font_weight': 'bold'}\n",
    ")\n",
    "\n",
    "new_game_button = widgets.Button(\n",
    "    description=\"New Game\",\n",
    "    layout=widgets.Layout(width=\"200px\", height=\"50px\"),\n",
    "    style={'button_color': '#86abb6', 'font_weight': 'bold'}\n",
    ")"
   ],
   "outputs": [],
   "execution_count": null
  },
  {
   "cell_type": "markdown",
   "id": "7e7c8380bf097ab9",
   "metadata": {},
   "source": [
    "#### Bind Buttons to Functions"
   ]
  },
  {
   "cell_type": "code",
   "id": "396b6174efb884b0",
   "metadata": {},
   "source": [
    "move_button.on_click(on_move_button_click)\n",
    "undo_button.on_click(on_undo_button_click)\n",
    "new_game_button.on_click(on_new_game_button_click)"
   ],
   "outputs": [],
   "execution_count": null
  },
  {
   "cell_type": "markdown",
   "id": "29fff9262eb22ff5",
   "metadata": {},
   "source": [
    "### Layout for Controls"
   ]
  },
  {
   "cell_type": "code",
   "id": "ebab6a510a9648ee",
   "metadata": {},
   "source": [
    "controls = widgets.VBox([\n",
    "    widgets.HBox([move_input, move_button]),\n",
    "    widgets.HBox([undo_button, new_game_button]),\n",
    "    opponent_move_display\n",
    "])"
   ],
   "outputs": [],
   "execution_count": null
  },
  {
   "cell_type": "markdown",
   "id": "18d689b6e01ef256",
   "metadata": {},
   "source": [
    "### Display the Interface"
   ]
  },
  {
   "cell_type": "code",
   "id": "cd743d7b1080ecc4",
   "metadata": {},
   "source": [
    "display(controls)\n",
    "display(board_output)\n",
    "display(info_output)\n",
    "\n",
    "update_board_and_info()"
   ],
   "outputs": [],
   "execution_count": null
  },
  {
   "cell_type": "markdown",
   "id": "1ebc219350b95450",
   "metadata": {},
   "source": [
    "## Visualization"
   ]
  },
  {
   "cell_type": "markdown",
   "id": "bbd188ed40d6ee58",
   "metadata": {},
   "source": [
    "### Automatic game from which I got data"
   ]
  },
  {
   "cell_type": "code",
   "id": "ba91e176973aaf8b",
   "metadata": {},
   "source": [
    "def play_full_game():\n",
    "    board.reset()\n",
    "    evaluations_white = []\n",
    "    evaluations_black = []\n",
    "    move_number = 1\n",
    "\n",
    "    while not board.is_game_over():\n",
    "        best_move, best_score = get_best_move(board.fen())\n",
    "\n",
    "        if best_move:\n",
    "            make_move(best_move)\n",
    "\n",
    "            if board.turn == chess.WHITE:\n",
    "                evaluations_white.append((best_score, move_number))\n",
    "            else:\n",
    "                evaluations_black.append((best_score, move_number))\n",
    "\n",
    "            move_number += 1\n",
    "            update_board_and_info()\n",
    "\n",
    "            time.sleep(0.1)\n",
    "\n",
    "    print(\"Game Over. Evaluations are stored.\")\n",
    "    return evaluations_white, evaluations_black\n",
    "\n",
    "evaluations_white, evaluations_black = play_full_game()"
   ],
   "outputs": [],
   "execution_count": null
  },
  {
   "cell_type": "markdown",
   "id": "9edeef1e2ac41b66",
   "metadata": {},
   "source": [
    "### Position evaluation per move histogram\n",
    "##### clearly shows how the position changed and which player had the advantage throughout the game. Each bar represents the position score after each move, where one group of bars represents the scores for White players and the other group represents the scores for Black players"
   ]
  },
  {
   "cell_type": "code",
   "id": "7a4e831593333245",
   "metadata": {},
   "source": [
    "white_evaluations = evaluations_white\n",
    "black_evaluations = evaluations_black\n",
    "\n",
    "len_white = len(white_evaluations)\n",
    "len_black = len(black_evaluations)\n",
    "\n",
    "if len_white > len_black:\n",
    "    black_evaluations.extend([(0, i) for i in range(len_black, len_white)])\n",
    "elif len_black > len_white:\n",
    "    white_evaluations.extend([(0, i) for i in range(len_white, len_black)])\n",
    "\n",
    "white_evaluations = [score for score, _ in white_evaluations]\n",
    "black_evaluations = [score for score, _ in black_evaluations]\n",
    "\n",
    "fig, ax = plt.subplots(figsize=(12, 6))\n",
    "\n",
    "x = np.arange(len(white_evaluations))\n",
    "width = 0.35\n",
    "\n",
    "ax.bar(x - width/2, white_evaluations, width, label='White', color='#9fc3d1', align='center')\n",
    "ax.bar(x + width/2, black_evaluations, width, label='Black', color='#4a656d', align='center')\n",
    "\n",
    "ax.set_xlabel('Move Number')\n",
    "ax.set_ylabel('Evaluation')\n",
    "ax.set_title('Chess Game Evaluation for White and Black')\n",
    "\n",
    "tick_interval = 5\n",
    "ax.set_xticks(x[::tick_interval])\n",
    "ax.set_xticklabels([f'{i+1}' for i in x[::tick_interval]])\n",
    "\n",
    "plt.xticks(rotation=45)\n",
    "\n",
    "ax.legend()\n",
    "\n",
    "plt.tight_layout()\n",
    "plt.show()"
   ],
   "outputs": [],
   "execution_count": null
  }
 ],
 "metadata": {
  "kernelspec": {
   "display_name": "Python 3 (ipykernel)",
   "language": "python",
   "name": "python3"
  },
  "language_info": {
   "codemirror_mode": {
    "name": "ipython",
    "version": 3
   },
   "file_extension": ".py",
   "mimetype": "text/x-python",
   "name": "python",
   "nbconvert_exporter": "python",
   "pygments_lexer": "ipython3",
   "version": "3.13.3"
  }
 },
 "nbformat": 4,
 "nbformat_minor": 5
}
